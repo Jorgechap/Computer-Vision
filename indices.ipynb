{
  "nbformat": 4,
  "nbformat_minor": 0,
  "metadata": {
    "colab": {
      "name": "indices.ipynb",
      "provenance": [],
      "collapsed_sections": [],
      "mount_file_id": "1V7sybcS-o8Ro2lsWHkLcEAoE4soTGC3G",
      "authorship_tag": "ABX9TyOBLmU0I1W5/iC7/RhGHImo",
      "include_colab_link": true
    },
    "kernelspec": {
      "name": "python3",
      "display_name": "Python 3"
    },
    "language_info": {
      "name": "python"
    }
  },
  "cells": [
    {
      "cell_type": "markdown",
      "metadata": {
        "id": "view-in-github",
        "colab_type": "text"
      },
      "source": [
        "<a href=\"https://colab.research.google.com/github/Jorgechap/Computer-Vision/blob/master/indices.ipynb\" target=\"_parent\"><img src=\"https://colab.research.google.com/assets/colab-badge.svg\" alt=\"Open In Colab\"/></a>"
      ]
    },
    {
      "cell_type": "code",
      "metadata": {
        "id": "1CSXKwI5hvwE"
      },
      "source": [
        "import os\n",
        "\n",
        "import matplotlib.pyplot as plt\n",
        "import numpy as np\n",
        "import rioxarray as rxr\n",
        "import geopandas as gpd\n",
        "import earthpy as et\n",
        "import earthpy.spatial as es\n",
        "import earthpy.plot as ep"
      ],
      "execution_count": 10,
      "outputs": []
    },
    {
      "cell_type": "markdown",
      "metadata": {
        "id": "DGPNNpLpjou1"
      },
      "source": [
        "Esto mostró la imagen del arco iris. Para convertir a una matriz numpy, es tan simple como:"
      ]
    },
    {
      "cell_type": "code",
      "metadata": {
        "id": "YqP7q7JrjwKz",
        "colab": {
          "base_uri": "https://localhost:8080/"
        },
        "outputId": "493b0c75-25dd-4a8f-b870-9fea2c8820fd"
      },
      "source": [
        "banda4 = os.path.join(\"/content/RT_L1C_T18NYL_A023889_20211002T151703_B04.tif\")\n",
        "banda8 = os.path.join(\"/content/RT_L1C_T18NYL_A023889_20211002T151703_B08.tif\")\n",
        "\n",
        "\n",
        "banda4 = rxr.open_rasterio(banda4)\n",
        "banda8 = rxr.open_rasterio(banda8)\n",
        "print(banda4.shape)\n",
        "print(banda8.shape)\n"
      ],
      "execution_count": 26,
      "outputs": [
        {
          "output_type": "stream",
          "name": "stdout",
          "text": [
            "(1, 10980, 10980)\n",
            "(1, 10980, 10980)\n"
          ]
        }
      ]
    },
    {
      "cell_type": "markdown",
      "metadata": {
        "id": "VdFPnoK9lXtD"
      },
      "source": [
        "Calculo de NDVI\n"
      ]
    },
    {
      "cell_type": "code",
      "metadata": {
        "id": "ithe2-w4le-e"
      },
      "source": [
        "naip_ndvi = es.normalized_diff(banda4, banda8)"
      ],
      "execution_count": 27,
      "outputs": []
    },
    {
      "cell_type": "code",
      "metadata": {
        "colab": {
          "base_uri": "https://localhost:8080/",
          "height": 712
        },
        "id": "ZR2u1oUGpTRv",
        "outputId": "7b501fa4-b23f-4de6-9f45-d2fa9de197cf"
      },
      "source": [
        "ep.plot_bands(naip_ndvi,\n",
        "              cmap='PiYG',\n",
        "              scale=False,\n",
        "              vmin=-1, vmax=1,\n",
        "              title=\"Indice NDVI\\n Tauramena 24 11 2021\")\n",
        "plt.show()"
      ],
      "execution_count": 21,
      "outputs": [
        {
          "output_type": "display_data",
          "data": {
            "image/png": "[encoded data removed]",
            "text/plain": [
              "<Figure size 864x864 with 2 Axes>"
            ]
          },
          "metadata": {
            "needs_background": "light"
          }
        }
      ]
    },
    {
      "cell_type": "markdown",
      "metadata": {
        "id": "q5qUSEFEp5Uj"
      },
      "source": [
        "Ver distribución de valores NDVI\n",
        "Usando un histograma, puede ver la distribución de valores de píxeles en su salida NDVI."
      ]
    },
    {
      "cell_type": "code",
      "metadata": {
        "colab": {
          "base_uri": "https://localhost:8080/",
          "height": 405
        },
        "id": "d0-PT4fzp8oJ",
        "outputId": "ff3ec0a7-971e-44f8-cc53-9d90a5885dc8"
      },
      "source": [
        "ep.hist(naip_ndvi.values,\n",
        "        figsize=(12, 6),\n",
        "        title=[\"NDVI: Distribution of pixels\\n NAIP 2015 Cold Springs fire site\"])\n",
        "\n",
        "plt.show()"
      ],
      "execution_count": 22,
      "outputs": [
        {
          "output_type": "display_data",
          "data": {
            "image/png": "[encoded data removed]",
            "text/plain": [
              "<Figure size 864x432 with 1 Axes>"
            ]
          },
          "metadata": {
            "needs_background": "light"
          }
        }
      ]
    },
    {
      "cell_type": "code",
      "metadata": {
        "colab": {
          "base_uri": "https://localhost:8080/"
        },
        "id": "y9rvr61ss-Tq",
        "outputId": "f97c5cb8-a46c-4f26-aa23-2fdf4aff98e6"
      },
      "source": [
        "type(naip_ndvi), naip_ndvi.dtype"
      ],
      "execution_count": 28,
      "outputs": [
        {
          "output_type": "execute_result",
          "data": {
            "text/plain": [
              "(xarray.core.dataarray.DataArray, dtype('float64'))"
            ]
          },
          "metadata": {},
          "execution_count": 28
        }
      ]
    }
  ]
}